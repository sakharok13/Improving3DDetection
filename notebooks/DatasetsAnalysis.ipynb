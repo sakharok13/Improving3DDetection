{
 "cells": [
  {
   "cell_type": "code",
   "execution_count": null,
   "id": "b0c43de9-3e91-4a48-aeff-30aa81199cc4",
   "metadata": {
    "tags": []
   },
   "outputs": [],
   "source": [
    "!python --version\n",
    "!pip show torch\n",
    "!pip show open3d-python"
   ]
  },
  {
   "cell_type": "code",
   "execution_count": null,
   "id": "7ba84650-0d7a-44c7-9cb9-410b5abe38ad",
   "metadata": {},
   "outputs": [],
   "source": [
    "import open3d as o3d\n",
    "from open3d.web_visualizer import draw\n",
    "\n",
    "cube_red = o3d.geometry.TriangleMesh.create_box(1, 2, 4)\n",
    "cube_red.compute_vertex_normals()\n",
    "cube_red.paint_uniform_color((1.0, 0.0, 0.0))\n",
    "draw(cube_red)\n",
    "\n",
    "cube_blue = o3d.geometry.TriangleMesh.create_box(1, 2, 4)\n",
    "cube_blue.compute_vertex_normals()\n",
    "cube_blue.paint_uniform_color((0.0, 0.0, 1.0))\n",
    "draw(cube_blue)"
   ]
  },
  {
   "cell_type": "code",
   "execution_count": null,
   "id": "530ef493-97d7-415d-bfd3-c6bfd4f041e5",
   "metadata": {
    "tags": []
   },
   "outputs": [],
   "source": [
    "#draw a point cloud with default parameter\n",
    "office = o3d.io.read_point_cloud(example_bin)\n",
    "o3d.visualization.draw_plotly([office])"
   ]
  },
  {
   "cell_type": "markdown",
   "id": "2cf6e321-0678-4405-9d40-c05eda9e5c6e",
   "metadata": {},
   "source": [
    "## ONCE data-analysis"
   ]
  },
  {
   "cell_type": "code",
   "execution_count": null,
   "id": "2771c147-88b0-4a3d-b32b-432f162ce1c8",
   "metadata": {
    "tags": []
   },
   "outputs": [],
   "source": [
    "fld = '../OpenPCDet/data/once'\n",
    "test_fpath = f'{fld}/once_infos_test.pkl'\n",
    "train_fpath = '../OpenPCDet/data/once/once_infos_train.pkl'\n",
    "traindb_fpath = '../OpenPCDet/data/once/once_dbinfos_train.pkl'\n",
    "val_fpath = '../OpenPCDet/data/once/once_infos_val.pkl'\n",
    "\n",
    "example_bin = '/home/jovyan/3d_detection/OpenPCDet/data/once/data/000027/lidar_roof/1616100800900.bin'"
   ]
  },
  {
   "cell_type": "code",
   "execution_count": null,
   "id": "9a5a60f2-958c-48fb-98d4-d7ee442668f9",
   "metadata": {},
   "outputs": [],
   "source": [
    "import pickle\n",
    "\n",
    "with open(traindb_fpath, 'rb') as f:\n",
    "    d = pickle.load(f)\n",
    "\n",
    "type(d), len(d)"
   ]
  },
  {
   "cell_type": "code",
   "execution_count": null,
   "id": "9808f0de-a4e8-4628-8357-7a65002d6fec",
   "metadata": {},
   "outputs": [],
   "source": [
    "d['Car'][0]"
   ]
  },
  {
   "cell_type": "code",
   "execution_count": null,
   "id": "3bb0f545-9691-4b82-8416-7c736252e2c9",
   "metadata": {},
   "outputs": [],
   "source": [
    "import os\n",
    "fpath_gt = os.path.join(fld, d['Car'][0]['path'])\n",
    "!ls -lh {fpath_gt}"
   ]
  },
  {
   "cell_type": "markdown",
   "id": "c1c4d511-f5f3-4f17-a508-4e97d606867c",
   "metadata": {},
   "source": [
    "### prepare split"
   ]
  },
  {
   "cell_type": "code",
   "execution_count": 2,
   "id": "3b66c939-5fbd-4865-bb0f-441fa8a635fc",
   "metadata": {},
   "outputs": [
    {
     "name": "stdout",
     "output_type": "stream",
     "text": [
      "total 80\n",
      "drwxr-xr-x 10 jovyan jovyan 4096 Mar 24 17:55 000027\n",
      "drwxr-xr-x 10 jovyan jovyan 4096 Mar 24 17:56 000028\n",
      "drwxr-xr-x 10 jovyan jovyan 4096 Mar 24 17:56 000034\n",
      "drwxr-xr-x 10 jovyan jovyan 4096 Mar 24 17:57 000076\n",
      "drwxr-xr-x 10 jovyan jovyan 4096 Mar 24 17:58 000077\n",
      "drwxr-xr-x 10 jovyan jovyan 4096 Mar 24 17:58 000080\n",
      "drwxr-xr-x 10 jovyan jovyan 4096 Mar 24 17:59 000092\n",
      "drwxr-xr-x 10 jovyan jovyan 4096 Mar 24 17:59 000104\n",
      "drwxr-xr-x 10 jovyan jovyan 4096 Mar 24 18:01 000112\n",
      "drwxr-xr-x 10 jovyan jovyan 4096 Mar 24 18:03 000113\n",
      "drwxr-xr-x 10 jovyan jovyan 4096 Mar 24 18:04 000121\n",
      "drwxr-xr-x 10 jovyan jovyan 4096 Mar 24 18:05 000168\n",
      "drwxr-xr-x 10 jovyan jovyan 4096 Mar 24 18:06 000200\n",
      "drwxr-xr-x 10 jovyan jovyan 4096 Mar 24 18:06 000201\n",
      "drwxr-xr-x 10 jovyan jovyan 4096 Mar 24 18:07 000273\n",
      "drwxr-xr-x 10 jovyan jovyan 4096 Mar 24 18:08 000275\n",
      "drwxr-xr-x 10 jovyan jovyan 4096 Mar 24 18:09 000303\n",
      "drwxr-xr-x 10 jovyan jovyan 4096 Mar 24 18:10 000318\n",
      "drwxr-xr-x 10 jovyan jovyan 4096 Mar 24 18:10 000322\n",
      "drwxr-xr-x 10 jovyan jovyan 4096 Mar 24 18:11 000334\n"
     ]
    }
   ],
   "source": [
    "store_fld = '/home/jovyan/data/once_dataset/data'\n",
    "!ls -l {store_fld}"
   ]
  },
  {
   "cell_type": "markdown",
   "id": "9f316c63-a25b-4225-a73f-d853cc526f6c",
   "metadata": {},
   "source": [
    "### Visualise"
   ]
  },
  {
   "cell_type": "code",
   "execution_count": null,
   "id": "eb483bbb-e2a9-4279-99c1-16f024dda23b",
   "metadata": {
    "tags": []
   },
   "outputs": [],
   "source": [
    "import open3d as o3d; print(o3d.__version__)"
   ]
  },
  {
   "cell_type": "code",
   "execution_count": null,
   "id": "efa62996-4e58-4a87-bf9d-cc980f8680cd",
   "metadata": {
    "tags": []
   },
   "outputs": [],
   "source": [
    "pcd = o3d.io.read_point_cloud(fpath_gt)\n",
    "o3d.visualization.draw_geometries([pcd],\n",
    "                                  zoom=0.3412,\n",
    "                                  front=[0.4257, -0.2125, -0.8795],\n",
    "                                  lookat=[2.6172, 2.0475, 1.532],\n",
    "                                  up=[-0.0694, -0.9768, 0.2024])"
   ]
  },
  {
   "cell_type": "code",
   "execution_count": null,
   "id": "5c8d6724-6be6-48d0-a03b-d921d99fd51d",
   "metadata": {
    "tags": []
   },
   "outputs": [],
   "source": [
    "import open3d as o3d\n",
    "mesh = o3d.geometry.TriangleMesh.create_sphere()\n",
    "mesh.compute_vertex_normals()\n",
    "o3d.visualization.draw(mesh, raw_mode=True)"
   ]
  },
  {
   "cell_type": "code",
   "execution_count": null,
   "id": "a5bc1965-e9ad-4475-ac4f-d5abfe1da96b",
   "metadata": {
    "tags": []
   },
   "outputs": [],
   "source": [
    "import open3d as o3d\n",
    "from open3d.web_visualizer import draw\n",
    "\n",
    "cube_red = o3d.geometry.TriangleMesh.create_box(1, 2, 4)\n",
    "cube_red.compute_vertex_normals()\n",
    "cube_red.paint_uniform_color((1.0, 0.0, 0.0))\n",
    "draw(cube_red)\n",
    "\n",
    "cube_blue = o3d.geometry.TriangleMesh.create_box(1, 2, 4)\n",
    "cube_blue.compute_vertex_normals()\n",
    "cube_blue.paint_uniform_color((0.0, 0.0, 1.0))\n",
    "draw(cube_blue)"
   ]
  },
  {
   "cell_type": "markdown",
   "id": "65ffb061-3b4e-4780-9c5b-22533e9b2692",
   "metadata": {},
   "source": [
    "## Waymo dataset v_2_0_0\n",
    "- Motion dataset specs [Link](https://waymo.com/open/data/motion/)\n",
    "- Perception dataset specs [Link](https://waymo.com/open/data/perception/)\n",
    "- Examples [Link](https://github.com/waymo-research/waymo-open-dataset/tree/master/tutorial)\n",
    "- Tutorial to work with v_2.0.0 format [Link](https://github.com/waymo-research/waymo-open-dataset/blob/master/tutorial/tutorial_v2.ipynb)"
   ]
  },
  {
   "cell_type": "code",
   "execution_count": 2,
   "id": "f4c2d594-b3a5-4787-98bb-f6a13a4d2865",
   "metadata": {},
   "outputs": [
    {
     "data": {
      "text/plain": [
       "985558"
      ]
     },
     "execution_count": 2,
     "metadata": {},
     "output_type": "execute_result"
    }
   ],
   "source": [
    "fpath = '../data/waymo/waymo_processed_data_v0_5_0_gt_database_train_D1_sampled_1_part1.txt'\n",
    "with open(fpath, 'r') as f:\n",
    "    fs = [line.strip() for line in f]\n",
    "len(fs)"
   ]
  },
  {
   "cell_type": "code",
   "execution_count": 2,
   "id": "451b14cc-2d56-40a8-a26c-ddf333f844a1",
   "metadata": {},
   "outputs": [],
   "source": [
    "assert fs == sorted(fs)\n",
    "assert len(fs) == len(set(fs))"
   ]
  },
  {
   "cell_type": "code",
   "execution_count": 3,
   "id": "6de1f0ee-195a-4156-a508-1a8042f2f4f4",
   "metadata": {},
   "outputs": [
    {
     "data": {
      "text/plain": [
       "'segment-10017090168044687777_6380_000_6400_000_with_camera_labels_0000_Vehicle_0.bin'"
      ]
     },
     "execution_count": 3,
     "metadata": {},
     "output_type": "execute_result"
    }
   ],
   "source": [
    "fs[0]"
   ]
  },
  {
   "cell_type": "code",
   "execution_count": 4,
   "id": "678d4241-0635-4954-bc85-b2045edf0f5d",
   "metadata": {},
   "outputs": [
    {
     "data": {
      "text/plain": [
       "(19117267, 5)"
      ]
     },
     "execution_count": 4,
     "metadata": {},
     "output_type": "execute_result"
    }
   ],
   "source": [
    "import numpy as np\n",
    "fpath = '../data/waymo/waymo_processed_data_v0_5_0_gt_database_train_D20_sampled_1_global.npy'\n",
    "res = np.load(fpath)\n",
    "res.shape"
   ]
  },
  {
   "cell_type": "code",
   "execution_count": 5,
   "id": "6aef0dc1-34d5-4694-bb76-fda4e9509b9c",
   "metadata": {},
   "outputs": [
    {
     "data": {
      "text/plain": [
       "array([-2.328393  ,  1.3671283 , -0.4659359 ,  0.03111788,  0.07611918],\n",
       "      dtype=float32)"
      ]
     },
     "execution_count": 5,
     "metadata": {},
     "output_type": "execute_result"
    }
   ],
   "source": [
    "res[0]"
   ]
  },
  {
   "cell_type": "code",
   "execution_count": 7,
   "id": "bd9584dd-501b-4a18-a302-83c4132ffedd",
   "metadata": {},
   "outputs": [
    {
     "name": "stdout",
     "output_type": "stream",
     "text": [
      "num = 20\n",
      "Segments 20\n",
      "num = 10\n",
      "Segments 40\n",
      "num = 5\n",
      "Segments 80\n",
      "num = 2\n",
      "Segments 200\n",
      "num = 1\n",
      "Segments 399\n"
     ]
    }
   ],
   "source": [
    "import pickle\n",
    "\n",
    "fpath = '../data/waymo/waymo_infos_train_D%s.pkl'\n",
    "for num in reversed([1,2,5,10,20]):\n",
    "    print('num =', num)\n",
    "    cur_fpath = fpath % num\n",
    "    with open(cur_fpath, 'rb') as f:\n",
    "        d = pickle.load(f)\n",
    "        segments = set()\n",
    "        for elem in d:\n",
    "            segments.add(elem['point_cloud']['lidar_sequence'])\n",
    "        print('Segments', len(segments))\n"
   ]
  },
  {
   "cell_type": "code",
   "execution_count": null,
   "id": "5d4a44d9-378b-4fb2-a52a-94906caf0fa6",
   "metadata": {},
   "outputs": [],
   "source": []
  },
  {
   "cell_type": "code",
   "execution_count": null,
   "id": "06dfbfe8-c322-48c8-8caf-77e58fe0179b",
   "metadata": {},
   "outputs": [],
   "source": []
  },
  {
   "cell_type": "code",
   "execution_count": null,
   "id": "c344ea5e-22fe-4720-a042-e74306c880df",
   "metadata": {},
   "outputs": [],
   "source": [
    "waymo_fld = '/home/jovyan/data/waymo_open_dataset_v_2_0_0/training/lidar/'\n",
    "!echo \"Lidar files count:\"\n",
    "!ls -1 {waymo_fld}*.parquet | wc -l"
   ]
  },
  {
   "cell_type": "code",
   "execution_count": null,
   "id": "52715b45-ae04-41d4-85d5-678e4f87c583",
   "metadata": {},
   "outputs": [],
   "source": [
    "context_name = '10023947602400723454_1120_000_1140_000'\n",
    "\n",
    "def read(tag: str) -> dd.DataFrame:\n",
    "    \"\"\"Creates a Dask DataFrame for the component specified by its tag.\"\"\"\n",
    "    paths = tf.io.gfile.glob(f'{dataset_dir}/{tag}/{context_name}.parquet')\n",
    "    return dd.read_parquet(paths)"
   ]
  },
  {
   "cell_type": "code",
   "execution_count": null,
   "id": "c58bf38b-a4e1-4cef-8800-97025f3a3aad",
   "metadata": {
    "tags": []
   },
   "outputs": [],
   "source": [
    "import pyarrow.parquet as pq\n",
    "\n",
    "lidar_fpath = '15832924468527961_1564_160_1584_160.parquet'\n",
    "res = pq.read_table(lidar_fpath)\n",
    "df = res.to_pandas()\n",
    "print(df.shape)\n",
    "df.head()"
   ]
  },
  {
   "cell_type": "markdown",
   "id": "f6d54be7-0e29-4acb-b52e-2000da7a5a98",
   "metadata": {},
   "source": [
    "LiDAR data [Link](https://waymo.com/open/data/perception/#lidar-data): \n",
    "one mid-range lidar (top) and four short-range lidars (front, side left, side right, and rear)."
   ]
  },
  {
   "cell_type": "code",
   "execution_count": null,
   "id": "8393d7f8-7b5d-464d-84b2-3fd7e7b12017",
   "metadata": {},
   "outputs": [],
   "source": [
    "df['key.laser_name'].nunique()"
   ]
  },
  {
   "cell_type": "code",
   "execution_count": 1,
   "id": "4e8f430f-6917-4811-8012-720274a4acbc",
   "metadata": {},
   "outputs": [
    {
     "name": "stdout",
     "output_type": "stream",
     "text": [
      "DatasetsAnalysis.ipynb\n"
     ]
    }
   ],
   "source": []
  },
  {
   "cell_type": "markdown",
   "id": "38074666-062f-470a-af34-48a8645101d9",
   "metadata": {},
   "source": [
    "## Other utils"
   ]
  },
  {
   "cell_type": "code",
   "execution_count": null,
   "id": "ef0d8e32-22a4-4f1d-bf0f-e91ceb4c34ee",
   "metadata": {},
   "outputs": [],
   "source": [
    "def normalize_pc(points):\n",
    "    centroid = np.mean(points, axis=0)\n",
    "    points -= centroid\n",
    "    furthest_distance = np.max(np.sqrt(np.sum(abs(points)**2,axis=-1)))\n",
    "    points /= furthest_distance\n",
    "\n",
    "    return points"
   ]
  }
 ],
 "metadata": {
  "kernelspec": {
   "display_name": "Python 3 (ipykernel)",
   "language": "python",
   "name": "python3"
  },
  "language_info": {
   "codemirror_mode": {
    "name": "ipython",
    "version": 3
   },
   "file_extension": ".py",
   "mimetype": "text/x-python",
   "name": "python",
   "nbconvert_exporter": "python",
   "pygments_lexer": "ipython3",
   "version": "3.7.12"
  }
 },
 "nbformat": 4,
 "nbformat_minor": 5
}
