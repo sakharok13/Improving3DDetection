{
 "cells": [
  {
   "cell_type": "code",
   "execution_count": 1,
   "id": "dd57e4cd-23ba-44f2-ad73-04b78aa52355",
   "metadata": {},
   "outputs": [],
   "source": [
    "import pickle \n",
    "\n",
    "path = 'data/once/once_infos_raw_small_pseudo_superbest_1step.pkl'\n",
    "\n",
    "with open (path, 'rb') as file:\n",
    "    results = pickle.load(file)\n",
    "    \n",
    "def select_points_in_box(frame_path, box):\n",
    "    \n",
    "    point_cloud = np.fromfile(frame_path, dtype=np.float32).reshape(-1, 4)\n",
    "    \n",
    "    cx, cy, cz, length, width, height, theta = box\n",
    "    \n",
    "    translated_points = point_cloud[:, :3] - np.array([cx, cy, cz])\n",
    "    \n",
    "    R = np.array([[np.cos(-theta), -np.sin(-theta), 0],\n",
    "                  [np.sin(-theta),  np.cos(-theta), 0],\n",
    "                  [0,               0,               1]])\n",
    "    \n",
    "    rotated_points = np.dot(translated_points, R.T)\n",
    "    \n",
    "    half_dims = np.array([length, width, height]) / 2\n",
    "    lower_bounds = -half_dims\n",
    "    upper_bounds = half_dims\n",
    "    \n",
    "    in_bounds = np.all((rotated_points >= lower_bounds) & (rotated_points <= upper_bounds), axis=1)\n",
    "    \n",
    "    points_in_box = point_cloud[in_bounds]\n",
    "    \n",
    "    return points_in_box"
   ]
  },
  {
   "cell_type": "code",
   "execution_count": null,
   "id": "3f7b9b38-9705-47fe-b0bf-47d413f70d9e",
   "metadata": {},
   "outputs": [],
   "source": [
    "import pytorch3d"
   ]
  },
  {
   "cell_type": "code",
   "execution_count": 30,
   "id": "329187b4-d868-42cf-b7e9-4533a04c159f",
   "metadata": {},
   "outputs": [],
   "source": [
    "import numpy as np"
   ]
  },
  {
   "cell_type": "code",
   "execution_count": 25,
   "id": "300fbef1-cc7c-48d2-a60c-ea4353ba42f8",
   "metadata": {
    "collapsed": true,
    "jupyter": {
     "outputs_hidden": true
    },
    "tags": []
   },
   "outputs": [
    {
     "data": {
      "text/plain": [
       "array([[  7.723767  ,  24.626654  ,  -0.99283224,   4.041405  ,\n",
       "          1.9229825 ,   1.4421272 ,   4.6757708 ],\n",
       "       [  4.368657  ,  27.128973  ,  -0.8918172 ,   4.228919  ,\n",
       "          2.0464797 ,   1.4711801 ,   4.642211  ],\n",
       "       [  2.160801  , -12.03088   ,  -1.05327   ,   4.1468816 ,\n",
       "          1.7964832 ,   1.4891843 ,   4.6711526 ],\n",
       "       [  5.1825504 ,  -6.477081  ,  -0.99076706,   4.373981  ,\n",
       "          1.8167657 ,   1.6192343 ,   4.6379695 ],\n",
       "       [ -0.1079433 , -50.160633  ,  -1.2642913 ,   4.368913  ,\n",
       "          1.8658537 ,   1.5104473 ,   4.652733  ],\n",
       "       [  4.9938016 , -24.047752  ,  -1.1890163 ,   4.553879  ,\n",
       "          1.7792126 ,   1.6029956 ,   4.6735187 ],\n",
       "       [ -7.3828354 ,  65.04593   ,  -0.66674066,   4.4099164 ,\n",
       "          1.6974175 ,   1.5164845 ,   1.379775  ],\n",
       "       [ -4.5892277 , -62.77268   ,  -0.8298416 ,   4.5439925 ,\n",
       "          1.7985185 ,   1.6277137 ,   4.608945  ],\n",
       "       [ -1.3258346 , -70.97261   ,  -0.8548385 ,   4.5829687 ,\n",
       "          1.9338351 ,   1.676676  ,   4.643925  ],\n",
       "       [ 47.15749   , -26.441774  ,  -1.8687046 ,   4.400836  ,\n",
       "          1.7578282 ,   1.5501567 ,   3.0387464 ],\n",
       "       [  3.8160973 , -49.438168  ,  -0.40986133,   6.12399   ,\n",
       "          2.667003  ,   3.13945   ,   4.6593413 ],\n",
       "       [ -7.7553816 , -39.039757  ,  -0.8725277 ,   0.8255226 ,\n",
       "          0.7999012 ,   1.7447063 ,   4.642513  ],\n",
       "       [ -8.553805  ,  31.773521  ,  -0.38547865,   0.7840782 ,\n",
       "          0.7892786 ,   1.6786923 ,   4.627142  ]], dtype=float32)"
      ]
     },
     "execution_count": 25,
     "metadata": {},
     "output_type": "execute_result"
    }
   ],
   "source": [
    "results[0]['annos']['boxes_3d'][results[0]['annos']['score'] > 0.5]"
   ]
  },
  {
   "cell_type": "code",
   "execution_count": 87,
   "id": "5d0d56ae-7689-42a1-a3f7-0751494367f4",
   "metadata": {},
   "outputs": [],
   "source": [
    "def select_points_in_box(frame_path, box):\n",
    "    \n",
    "    point_cloud = np.fromfile(frame_path, dtype=np.float32).reshape(-1, 4)\n",
    "    \n",
    "    cx, cy, cz, length, width, height, theta = box\n",
    "    \n",
    "    translated_points = point_cloud[:, :3] - np.array([cx, cy, cz])\n",
    "    \n",
    "    R = np.array([[np.cos(-theta), -np.sin(-theta), 0],\n",
    "                  [np.sin(-theta),  np.cos(-theta), 0],\n",
    "                  [0,               0,               1]])\n",
    "    \n",
    "    rotated_points = np.dot(translated_points, R.T)\n",
    "    \n",
    "    half_dims = np.array([length, width, height]) / 2\n",
    "    lower_bounds = -half_dims\n",
    "    upper_bounds = half_dims\n",
    "    \n",
    "    in_bounds = np.all((rotated_points >= lower_bounds) & (rotated_points <= upper_bounds), axis=1)\n",
    "    \n",
    "    points_in_box = point_cloud[in_bounds]\n",
    "    \n",
    "    return points_in_box\n",
    "\n",
    "from tqdm import tqdm\n",
    "\n",
    "def transform_frame(scene_path, output_path, results_dict, step_size = 6):\n",
    "    if scene_path[-1] == '/':\n",
    "        scene_path = scene_path[:-1]\n",
    "    scene_id = scene_path.split('/')[-1]\n",
    "    with open(os.path.join(scene_path, f'{scene_id}.json'), 'r') as file:\n",
    "        json_data = json.load(file)['frames']\n",
    "        \n",
    "    try:\n",
    "        os.mkdir(os.path.join(output_path, str(scene_id)))\n",
    "    except:\n",
    "        print('scene done')\n",
    "    frame_to_pose = {d['frame_id']: d['pose'] for d in json_data}\n",
    "    transform_data = json_data\n",
    "    \n",
    "    lidars = sorted(glob.glob(os.path.join(scene_path, 'lidar_roof/*')))\n",
    "    frame_to_path = {frame.split('/')[-1].split('.')[0]: frame for frame in lidars}\n",
    "    lidars_done = set()\n",
    "    object_number = 0\n",
    "    for i, lidar_path_current in tqdm(enumerate(lidars[:len(lidars)-step_size-1])):\n",
    "        if i % step_size !=0:\n",
    "            continue\n",
    "            \n",
    "        if i == len(lidars) - step_size - 1:\n",
    "            break\n",
    "            \n",
    "        frame_id = lidar_path_current.split('/')[-1].split('.')[0]\n",
    "        cur_predictions = results_dict[frame_id]\n",
    "        cur_boxes = cur_predictions['boxes_3d']\n",
    "        sequence_of_boxes = [[i] for i in cur_boxes]\n",
    "        sequence_of_frames = [[frame_id] for _ in range(len(sequence_of_boxes))]\n",
    "\n",
    "        cur_rotation = Rotation.from_quat(frame_to_pose[frame_id][:4]).as_matrix()\n",
    "        cur_translation = np.array(frame_to_pose[frame_id][4:]).transpose()\n",
    "        frames = [frame_id]\n",
    "        for j, lidar_path_future in enumerate(lidars[i+1:i+step_size]):\n",
    "            \n",
    "            future_frame_id = lidar_path_future.split('/')[-1].split('.')[0]\n",
    "            future_rotation = Rotation.from_quat(frame_to_pose[future_frame_id][:4]).as_matrix()\n",
    "            future_translation = np.array(frame_to_pose[future_frame_id][4:]).transpose()\n",
    "            \n",
    "            fut_predictions = results_dict[future_frame_id]\n",
    "       \n",
    "            fut_boxes = list(fut_predictions['boxes_3d'])\n",
    "            for i, cur_box in enumerate(cur_boxes):\n",
    "                cur_coords = np.dot(cur_box[:3], cur_rotation) + cur_translation\n",
    "                dist = 100500\n",
    "                match=-1\n",
    "                \n",
    "                for j, fut_box in enumerate(fut_boxes):\n",
    "                    fut_coords = np.dot(fut_box[:3], future_rotation) + future_translation\n",
    "                    distance = sum((fut_coords - cur_coords)**2)\n",
    "                    if (distance <= dist and \n",
    "                       cur_predictions['name'][i] == fut_predictions['name'][j] and \n",
    "                       distance < 2):\n",
    "                        dist = sum((fut_coords - cur_coords)**2)\n",
    "                        match = j\n",
    "                if match != -1:\n",
    "                    sequence_of_boxes[i].append(fut_boxes[match])\n",
    "                    sequence_of_frames[i].append(future_frame_id)\n",
    "                    fut_boxes.pop(match)\n",
    "        \n",
    "        for i, boxes in enumerate(sequence_of_boxes):\n",
    "            try:\n",
    "                os.mkdir(os.path.join(output_path, str(scene_id), str(object_number)))\n",
    "            except:\n",
    "                pass\n",
    "            for j, box in enumerate(boxes):\n",
    "                if len(box) > 3:\n",
    "                    frame = sequence_of_frames[i][j]\n",
    "                    cloud = select_points_in_box(frame_to_path[frame], box)\n",
    "                    with open(os.path.join(output_path, str(scene_id), str(object_number), f'{j}_view'), 'wb') as f:       \n",
    "                        np.save(f, cloud.astype(np.float32))\n",
    "            object_number += 1\n",
    "    \n",
    "import pickle \n",
    "path = 'data/once/once_infos_raw_small_pseudo_superbest_1step.pkl'\n",
    "\n",
    "# with open (path, 'rb') as file:\n",
    "#     results = pickle.load(file)\n",
    "# results_dict = {result['frame_id'] : result['annos'] for result in results}"
   ]
  },
  {
   "cell_type": "code",
   "execution_count": 88,
   "id": "98262759-7970-49b8-aebd-ba10f3898bbd",
   "metadata": {},
   "outputs": [],
   "source": [
    "import glob\n",
    "import os\n",
    "import json\n",
    "scenes = glob.glob('data/once_last/*')"
   ]
  },
  {
   "cell_type": "code",
   "execution_count": 89,
   "id": "2993a827-484a-4bb0-ba5c-3ce107540ee6",
   "metadata": {},
   "outputs": [],
   "source": [
    "import os \n",
    "import json\n",
    "from scipy.spatial.transform import Rotation\n",
    "import glob \n",
    "import numpy as np \n",
    "import numpy as np\n",
    "\n",
    "\n",
    "import torch\n",
    "import numpy as np\n",
    "import open3d as o3d"
   ]
  },
  {
   "cell_type": "code",
   "execution_count": 90,
   "id": "f9969675-bf96-44c4-a8b1-384ec3ef3d3e",
   "metadata": {},
   "outputs": [
    {
     "name": "stdout",
     "output_type": "stream",
     "text": [
      "scene done\n"
     ]
    },
    {
     "name": "stderr",
     "output_type": "stream",
     "text": [
      "2120it [04:46,  7.40it/s]\n",
      "1201it [01:20, 14.87it/s]\n",
      "182it [00:16, 11.08it/s]\n"
     ]
    },
    {
     "ename": "KeyboardInterrupt",
     "evalue": "",
     "output_type": "error",
     "traceback": [
      "\u001b[0;31m---------------------------------------------------------------------------\u001b[0m",
      "\u001b[0;31mKeyboardInterrupt\u001b[0m                         Traceback (most recent call last)",
      "\u001b[0;32m/tmp/ipykernel_439/1305259735.py\u001b[0m in \u001b[0;36m<module>\u001b[0;34m\u001b[0m\n\u001b[1;32m      1\u001b[0m \u001b[0;32mfor\u001b[0m \u001b[0mscene\u001b[0m \u001b[0;32min\u001b[0m \u001b[0mscenes\u001b[0m\u001b[0;34m:\u001b[0m\u001b[0;34m\u001b[0m\u001b[0;34m\u001b[0m\u001b[0m\n\u001b[0;32m----> 2\u001b[0;31m     \u001b[0mtransform_frame\u001b[0m\u001b[0;34m(\u001b[0m\u001b[0mscene\u001b[0m\u001b[0;34m,\u001b[0m \u001b[0;34m'data/objects_from_boxes'\u001b[0m\u001b[0;34m,\u001b[0m \u001b[0mresults_dict\u001b[0m\u001b[0;34m,\u001b[0m \u001b[0mstep_size\u001b[0m\u001b[0;34m=\u001b[0m \u001b[0;36m7\u001b[0m\u001b[0;34m)\u001b[0m\u001b[0;34m\u001b[0m\u001b[0;34m\u001b[0m\u001b[0m\n\u001b[0m",
      "\u001b[0;32m/tmp/ipykernel_439/3378997294.py\u001b[0m in \u001b[0;36mtransform_frame\u001b[0;34m(scene_path, output_path, results_dict, step_size)\u001b[0m\n\u001b[1;32m     75\u001b[0m                 \u001b[0;32mfor\u001b[0m \u001b[0mj\u001b[0m\u001b[0;34m,\u001b[0m \u001b[0mfut_box\u001b[0m \u001b[0;32min\u001b[0m \u001b[0menumerate\u001b[0m\u001b[0;34m(\u001b[0m\u001b[0mfut_boxes\u001b[0m\u001b[0;34m)\u001b[0m\u001b[0;34m:\u001b[0m\u001b[0;34m\u001b[0m\u001b[0;34m\u001b[0m\u001b[0m\n\u001b[1;32m     76\u001b[0m                     \u001b[0mfut_coords\u001b[0m \u001b[0;34m=\u001b[0m \u001b[0mnp\u001b[0m\u001b[0;34m.\u001b[0m\u001b[0mdot\u001b[0m\u001b[0;34m(\u001b[0m\u001b[0mfut_box\u001b[0m\u001b[0;34m[\u001b[0m\u001b[0;34m:\u001b[0m\u001b[0;36m3\u001b[0m\u001b[0;34m]\u001b[0m\u001b[0;34m,\u001b[0m \u001b[0mfuture_rotation\u001b[0m\u001b[0;34m)\u001b[0m \u001b[0;34m+\u001b[0m \u001b[0mfuture_translation\u001b[0m\u001b[0;34m\u001b[0m\u001b[0;34m\u001b[0m\u001b[0m\n\u001b[0;32m---> 77\u001b[0;31m                     \u001b[0mdistance\u001b[0m \u001b[0;34m=\u001b[0m \u001b[0msum\u001b[0m\u001b[0;34m(\u001b[0m\u001b[0;34m(\u001b[0m\u001b[0mfut_coords\u001b[0m \u001b[0;34m-\u001b[0m \u001b[0mcur_coords\u001b[0m\u001b[0;34m)\u001b[0m\u001b[0;34m**\u001b[0m\u001b[0;36m2\u001b[0m\u001b[0;34m)\u001b[0m\u001b[0;34m\u001b[0m\u001b[0;34m\u001b[0m\u001b[0m\n\u001b[0m\u001b[1;32m     78\u001b[0m                     if (distance <= dist and \n\u001b[1;32m     79\u001b[0m                        \u001b[0mcur_predictions\u001b[0m\u001b[0;34m[\u001b[0m\u001b[0;34m'name'\u001b[0m\u001b[0;34m]\u001b[0m\u001b[0;34m[\u001b[0m\u001b[0mi\u001b[0m\u001b[0;34m]\u001b[0m \u001b[0;34m==\u001b[0m \u001b[0mfut_predictions\u001b[0m\u001b[0;34m[\u001b[0m\u001b[0;34m'name'\u001b[0m\u001b[0;34m]\u001b[0m\u001b[0;34m[\u001b[0m\u001b[0mj\u001b[0m\u001b[0;34m]\u001b[0m \u001b[0;32mand\u001b[0m\u001b[0;34m\u001b[0m\u001b[0;34m\u001b[0m\u001b[0m\n",
      "\u001b[0;31mKeyboardInterrupt\u001b[0m: "
     ]
    }
   ],
   "source": [
    "for scene in scenes:\n",
    "    transform_frame(scene, 'data/objects_from_boxes', results_dict, step_size= 7)"
   ]
  },
  {
   "cell_type": "code",
   "execution_count": null,
   "id": "bcea188f-22fc-4044-ab37-fdd2792cf916",
   "metadata": {},
   "outputs": [],
   "source": []
  }
 ],
 "metadata": {
  "kernelspec": {
   "display_name": "Python 3 (ipykernel)",
   "language": "python",
   "name": "python3"
  },
  "language_info": {
   "codemirror_mode": {
    "name": "ipython",
    "version": 3
   },
   "file_extension": ".py",
   "mimetype": "text/x-python",
   "name": "python",
   "nbconvert_exporter": "python",
   "pygments_lexer": "ipython3",
   "version": "3.7.12"
  }
 },
 "nbformat": 4,
 "nbformat_minor": 5
}
